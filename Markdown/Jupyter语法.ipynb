{
 "cells": [
  {
   "cell_type": "markdown",
   "metadata": {},
   "source": [
    "# jupyter基础\n",
    "\n",
    "- [jupyter notebook的安装与使用](https://blog.csdn.net/lee_j_r/article/details/52791228)\n",
    "- 来自DataQuest博客分享： [Jupyter Notebook tips, tricks, and shortcuts 快捷键](https://www.dataquest.io/blog/jupyter-notebook-tips-tricks-shortcuts/)\n",
    "- [Jupyter notebook小技巧](http://liuchengxu.org/pelican-blog/jupyter-notebook-tips.html)\n",
    "- MarkDown参考学习：[w3cshool](https://www.w3cschool.cn/markdownyfsm/markdownyfsm-odm6256r.html)\n",
    "- 关于jupyter notebook编程的书籍 [nbviewer](http://nbviewer.jupyter.org/)\n",
    "- 有趣的notebook [A gallery of interesting Jupyter Notebooks](https://github.com/jupyter/jupyter/wiki/A-gallery-of-interesting-Jupyter-Notebooks)\n",
    " \n",
    " \n",
    "\n",
    "## 命令模式下的单元格操作：\n",
    "\n",
    "1. L: 显示代码的行号\n",
    "2. m: 将单元格变为markdown类型，在markdown类型的单元格内可以编写文档\n",
    "3. y: 将单元格变为代码类型，在代码类型的单元格中输入Python代码\n",
    "4. d: 按两下d按键删除单元格(删除当前的cell：dd)\n",
    "5. z: 撤销最后删除单元格操作\n",
    "6. a: 在当前单元格之上创建一个新的单元格\n",
    "7. b: 在当前单元格之下创建一个新的单元格\n",
    "8. x: 剪切当前单元格\n",
    "9. c: 复制当前单元格\n",
    "10. v: 在当前单元格之下粘贴剪切板中的单元格\n",
    "11. shift+k: 将当前单元格上移\n",
    "12. shift+j: 将当前单元格下移\n",
    "13. shift+m:与下面的单元合并\n",
    "14. 将当前的cell转化为具有一级标题的maskdown：数字键1\n",
    "15. 将当前的cell转化为具有二级标题的maskdown：数字键2\n",
    "16. 将当前的cell转化为具有三级标题的maskdown：数字键3\n",
    "\n",
    "\n",
    "\n",
    "## 编辑和运行\n",
    "\n",
    "1. 执行当前cell，并自动跳到下一个cell：Shift Enter\n",
    "2. 执行当前cell，执行后不自动调转到下一个cell：Ctrl-Enter  (Ctrl+Enter：结束编辑，对于代码单元将运行其中的代码，对于标题单元和markdown单元将格格式化显示)\n",
    "3. 当前cell进入编辑模式：Enter\n",
    "4. 退出当前cell的编辑模式：Esc\n",
    "5. Alt+Enter：运行当前的代码并在下面插入新的单元\n",
    "6. 为一行或者多行添加/取消注释：Crtl /\n",
    "7. 撤销对某个cell的删除：z\n",
    "8. 浏览器的各个Tab之间切换：Crtl PgUp和Crtl PgDn\n",
    "9. 快速跳转到首个cell：Crtl Home\n",
    "10. 快速跳转到最后一个cell：Crtl End\n",
    "11. 在命令模式下按Enter键进入编辑模式即可查看本段文字的Markdown代码\n",
    "12. 编辑模式下单元使用绿色边框显示，在命令模式时按Enter即可进入编辑模式\n",
    "13. 在行内的数学公式使用单个 ` $ ` 括起\n",
    "14. 单独占一行的数学公式使用  ` $$ `括起\n",
    "\n",
    "\n",
    "## 操作运算核   \n",
    "[如何优雅地使用 Jupyter](https://www.zhihu.com/question/59392251)\n",
    "\n",
    "1. 如果进入了Python的死循环，可以在命令模式下按两下 **i** 按键终止循环。\n",
    "2. 如果i按键不能终止编译代码中的死循环，可以按两次**0**（是零不是o）按键重新启动运算核心，当前运行环境中的所有对象都将消失\n",
    "\n",
    "注意：**右上角图标从空心圈变为实心圈，表示运算核正在工作，无法执行新的代码。请按两下 **i** 按键终止循环，注意右上角的图标变回空心圈**\n"
   ]
  },
  {
   "cell_type": "markdown",
   "metadata": {},
   "source": [
    "# jupyter notebook命令\n",
    "\n",
    "## 无序列表\n",
    "- 1\n",
    "- 2\n",
    "- 3\n",
    "\n",
    "## 有序列表\n",
    "1. ok\n",
    "2. ok\n",
    "3. ok\n",
    "\n",
    "## 链接的使用\n",
    "[百度](https://www.baidu.com)\n",
    "\n",
    "## 字体\n",
    "*斜体*\n",
    "\n",
    "**粗体**\n",
    "\n",
    "## 图片的引用\n",
    "插入图片不需要其他按钮，你只需要使用 ![](图片链接地址) 这样的语法即可\n",
    "\n",
    "![](http://upload-images.jianshu.io/upload_images/259-0ad0d0bfc1c608b6.jpg?imageMogr2/auto-orient/strip%7CimageView2/2/w/1240)\n",
    "\n",
    "## 引用\n",
    "\n",
    "> 种豆南山下\n",
    "> 草盛豆苗稀\n",
    "\n",
    "## 代码引用\n",
    "需要引用代码时，如果引用的语句只有一段，不分行，可以用 ` 将语句包起来。\n",
    "如果引用的语句为多行，可以将```置于这段代码的首行和末行。\n",
    "\n",
    "`print(work)`\n",
    "\n",
    "```\n",
    "print(work)\n",
    "print(work)\n",
    "print(work)\n",
    "print(work)\n",
    "```\n",
    "\n",
    "## Multicursor support(支持多光标)\n",
    "按住 **Alt** 进行点击和拖拽鼠标即可\n",
    "![](http://liuchengxu.org/pelican-blog/images/multiline.gif)\n"
   ]
  },
  {
   "cell_type": "markdown",
   "metadata": {},
   "source": [
    "# 导入python代码\n",
    "\n",
    "## 本地导入python代\n",
    "\n",
    " - %load+文件路径（文件的路径可以是相对地址也可以是绝对地址） \n",
    " ![地址](https://pic1.zhimg.com/v2-a5d596dc1ccbc2dd8389f8eb4f80a400_r.jpg)\n",
    "\n",
    "`%load 蟒蛇图形绘制.py`\n",
    "\n",
    "```\n",
    "# %load 蟒蛇图形绘制.py\n",
    "#蟒蛇图形绘制.py\n",
    "import turtle\n",
    "turtle.setup(650,350,200,200)        #窗体的绘制\n",
    "turtle.penup()                  #画笔控制函数\n",
    "turtle.fd(-250)\n",
    "turtle.pendown()\n",
    "turtle.pensize(25)\n",
    "turtle.pencolor(\"green\")\n",
    "turtle.seth(-40)                #改变海龟（面对方向）的行进方向，但不行进\n",
    "for i in range(4):\n",
    "    turtle.circle(40,80)\n",
    "    turtle.circle(-40,80)\n",
    "\n",
    "turtle.circle(40,80/2)\n",
    "turtle.fd(40)\n",
    "turtle.circle(16,180)\n",
    "turtle.fd(40*2/3)\n",
    "turtle.done\n",
    "\n",
    "```\n",
    "\n",
    "## 网络导入代码\n",
    "\n",
    "从网络中导入python代码，使用`%load` 网址   \n"
   ]
  },
  {
   "cell_type": "markdown",
   "metadata": {},
   "source": [
    "# jupyter中运行python文件\n",
    "\n",
    "1. `%run + python文件`\n",
    "   - 直接在cell中输入：`%run xxx.py` 按 **Ctrl+Enter** 后，执行结果直接在这个cell的下面显示如下图所示\n",
    "   - `%run 温度转换.py`\n",
    "\n",
    "\n",
    "2. `！ + Python文件`\n",
    "   - 在 command 前面加入一个感叹号` ! ` 。 例如：` ! 蟒蛇图形绘制.py`"
   ]
  },
  {
   "cell_type": "code",
   "execution_count": 2,
   "metadata": {},
   "outputs": [
    {
     "name": "stdout",
     "output_type": "stream",
     "text": [
      "请输入带有符号的温度值24c\n",
      "转换后的华氏温度是:75.20F\n"
     ]
    }
   ],
   "source": [
    "%run 温度转换.py"
   ]
  },
  {
   "cell_type": "code",
   "execution_count": 20,
   "metadata": {
    "collapsed": true
   },
   "outputs": [],
   "source": [
    "! 蟒蛇图形绘制.py"
   ]
  },
  {
   "cell_type": "markdown",
   "metadata": {},
   "source": [
    "# matplotlib绘图\n",
    "当在程序中使用了matplotlib绘图，不能直接显示时，需要加` %matplotlib inline `"
   ]
  },
  {
   "cell_type": "code",
   "execution_count": 8,
   "metadata": {},
   "outputs": [
    {
     "data": {
      "text/plain": [
       "[<matplotlib.lines.Line2D at 0x213fd214cc0>]"
      ]
     },
     "execution_count": 8,
     "metadata": {},
     "output_type": "execute_result"
    },
    {
     "data": {
      "image/png": "[encoded data removed]",
      "text/plain": [
       "<matplotlib.figure.Figure at 0x213fcba8518>"
      ]
     },
     "metadata": {},
     "output_type": "display_data"
    }
   ],
   "source": [
    "# %matplotlib inline\n",
    "import matplotlib.pylab as plt\n",
    "import numpy as np\n",
    "\n",
    "x = np.arange(20)\n",
    "y = x**2\n",
    "plt.plot(x,y)"
   ]
  },
  {
   "cell_type": "markdown",
   "metadata": {},
   "source": [
    "# magic命令\n",
    "\n",
    "## magic命令用法\n",
    "1. 魔法命令都以 **%** 或者 **%%** 开头，以 **%** 开头的成为**行命令**，**%%** 开头的称为**单元命令**。行命令只对命令所在的行有效，而单元命令则必须出现在单元的第一行，对整个单元的代码进行处理。\n",
    "2. 在Jupyter中执行 **%lsmagic** 可以列举所有的魔法命令；\n",
    "3. **%magic** 可以查看关于各个命令的说明，\n",
    "4. 在%命令之后添加 **?** 可以查看该命令的详细说明(例如：%magic?)\n",
    "\n",
    "## 常用的魔术命令有： \n",
    "- %quickref\t显示 IPython 快速参考\n",
    "- %magic\t显示所有魔术命令的详细文档\n",
    "- %debug\t从最新的异常跟踪的底部进入交互式调试器\n",
    "- %pdb\t在异常发生后自动进入调试器\n",
    "- %reset\t删除 interactive 命名空间中的全部变量\n",
    "- %run script.py\t执行 script.py\n",
    "- %prun statement\t通过 cProfile 执行对 statement 的逐行性能分析\n",
    "- %time statement\t测试 statement 的执行时间\n",
    "- %timeit statement\t多次测试 statement 的执行时间并计算平均值\n",
    "- %who、%who_ls、%whos\t显示 interactive 命名空间中定义的变量，信息级别/冗余度可变\n",
    "- %xdel variable\t删除 variable，并尝试清除其在 IPython 中的对象上的一切引用\n",
    "- !cmd\t在系统 shell 执行 cmd\n",
    "- output=!cmd args\t执行cmd 并赋值\n",
    "- %bookmark\t使用 IPython 的目录书签系统\n",
    "- %cd direcrory\t切换工作目录\n",
    "- %pwd\t返回当前工作目录（字符串形式）\n",
    "- %env\t返回当前系统变量（以字典形式）\n",
    "\n"
   ]
  },
  {
   "cell_type": "code",
   "execution_count": 2,
   "metadata": {},
   "outputs": [
    {
     "data": {
      "application/json": {
       "cell": {
        "!": "OSMagics",
        "HTML": "Other",
        "SVG": "Other",
        "bash": "Other",
        "capture": "ExecutionMagics",
        "cmd": "Other",
        "debug": "ExecutionMagics",
        "file": "Other",
        "html": "DisplayMagics",
        "javascript": "DisplayMagics",
        "js": "DisplayMagics",
        "latex": "DisplayMagics",
        "markdown": "DisplayMagics",
        "perl": "Other",
        "prun": "ExecutionMagics",
        "pypy": "Other",
        "python": "Other",
        "python2": "Other",
        "python3": "Other",
        "ruby": "Other",
        "script": "ScriptMagics",
        "sh": "Other",
        "svg": "DisplayMagics",
        "sx": "OSMagics",
        "system": "OSMagics",
        "time": "ExecutionMagics",
        "timeit": "ExecutionMagics",
        "writefile": "OSMagics"
       },
       "line": {
        "alias": "OSMagics",
        "alias_magic": "BasicMagics",
        "autocall": "AutoMagics",
        "automagic": "AutoMagics",
        "autosave": "KernelMagics",
        "bookmark": "OSMagics",
        "cd": "OSMagics",
        "clear": "KernelMagics",
        "cls": "KernelMagics",
        "colors": "BasicMagics",
        "config": "ConfigMagics",
        "connect_info": "KernelMagics",
        "copy": "Other",
        "ddir": "Other",
        "debug": "ExecutionMagics",
        "dhist": "OSMagics",
        "dirs": "OSMagics",
        "doctest_mode": "BasicMagics",
        "echo": "Other",
        "ed": "Other",
        "edit": "KernelMagics",
        "env": "OSMagics",
        "gui": "BasicMagics",
        "hist": "Other",
        "history": "HistoryMagics",
        "killbgscripts": "ScriptMagics",
        "ldir": "Other",
        "less": "KernelMagics",
        "load": "CodeMagics",
        "load_ext": "ExtensionMagics",
        "loadpy": "CodeMagics",
        "logoff": "LoggingMagics",
        "logon": "LoggingMagics",
        "logstart": "LoggingMagics",
        "logstate": "LoggingMagics",
        "logstop": "LoggingMagics",
        "ls": "Other",
        "lsmagic": "BasicMagics",
        "macro": "ExecutionMagics",
        "magic": "BasicMagics",
        "matplotlib": "PylabMagics",
        "mkdir": "Other",
        "more": "KernelMagics",
        "notebook": "BasicMagics",
        "page": "BasicMagics",
        "pastebin": "CodeMagics",
        "pdb": "ExecutionMagics",
        "pdef": "NamespaceMagics",
        "pdoc": "NamespaceMagics",
        "pfile": "NamespaceMagics",
        "pinfo": "NamespaceMagics",
        "pinfo2": "NamespaceMagics",
        "pip": "BasicMagics",
        "popd": "OSMagics",
        "pprint": "BasicMagics",
        "precision": "BasicMagics",
        "profile": "BasicMagics",
        "prun": "ExecutionMagics",
        "psearch": "NamespaceMagics",
        "psource": "NamespaceMagics",
        "pushd": "OSMagics",
        "pwd": "OSMagics",
        "pycat": "OSMagics",
        "pylab": "PylabMagics",
        "qtconsole": "KernelMagics",
        "quickref": "BasicMagics",
        "recall": "HistoryMagics",
        "rehashx": "OSMagics",
        "reload_ext": "ExtensionMagics",
        "ren": "Other",
        "rep": "Other",
        "rerun": "HistoryMagics",
        "reset": "NamespaceMagics",
        "reset_selective": "NamespaceMagics",
        "rmdir": "Other",
        "run": "ExecutionMagics",
        "save": "CodeMagics",
        "sc": "OSMagics",
        "set_env": "OSMagics",
        "store": "StoreMagics",
        "sx": "OSMagics",
        "system": "OSMagics",
        "tb": "ExecutionMagics",
        "time": "ExecutionMagics",
        "timeit": "ExecutionMagics",
        "unalias": "OSMagics",
        "unload_ext": "ExtensionMagics",
        "who": "NamespaceMagics",
        "who_ls": "NamespaceMagics",
        "whos": "NamespaceMagics",
        "xdel": "NamespaceMagics",
        "xmode": "BasicMagics"
       }
      },
      "text/plain": [
       "Available line magics:\n",
       "%alias  %alias_magic  %autocall  %automagic  %autosave  %bookmark  %cd  %clear  %cls  %colors  %config  %connect_info  %copy  %ddir  %debug  %dhist  %dirs  %doctest_mode  %echo  %ed  %edit  %env  %gui  %hist  %history  %killbgscripts  %ldir  %less  %load  %load_ext  %loadpy  %logoff  %logon  %logstart  %logstate  %logstop  %ls  %lsmagic  %macro  %magic  %matplotlib  %mkdir  %more  %notebook  %page  %pastebin  %pdb  %pdef  %pdoc  %pfile  %pinfo  %pinfo2  %popd  %pprint  %precision  %profile  %prun  %psearch  %psource  %pushd  %pwd  %pycat  %pylab  %qtconsole  %quickref  %recall  %rehashx  %reload_ext  %ren  %rep  %rerun  %reset  %reset_selective  %rmdir  %run  %save  %sc  %set_env  %store  %sx  %system  %tb  %time  %timeit  %unalias  %unload_ext  %who  %who_ls  %whos  %xdel  %xmode\n",
       "\n",
       "Available cell magics:\n",
       "%%!  %%HTML  %%SVG  %%bash  %%capture  %%cmd  %%debug  %%file  %%html  %%javascript  %%js  %%latex  %%markdown  %%perl  %%prun  %%pypy  %%python  %%python2  %%python3  %%ruby  %%script  %%sh  %%svg  %%sx  %%system  %%time  %%timeit  %%writefile\n",
       "\n",
       "Automagic is ON, % prefix IS NOT needed for line magics."
      ]
     },
     "execution_count": 2,
     "metadata": {},
     "output_type": "execute_result"
    }
   ],
   "source": [
    "%lsmagic"
   ]
  },
  {
   "cell_type": "code",
   "execution_count": 14,
   "metadata": {
    "collapsed": true
   },
   "outputs": [],
   "source": [
    "%magic"
   ]
  },
  {
   "cell_type": "code",
   "execution_count": 15,
   "metadata": {
    "collapsed": true
   },
   "outputs": [],
   "source": [
    "%magic?"
   ]
  },
  {
   "cell_type": "code",
   "execution_count": 1,
   "metadata": {},
   "outputs": [
    {
     "data": {
      "text/plain": [
       "'C:\\\\Users\\\\Jhon\\\\Desktop\\\\Python\\\\MachineLearning'"
      ]
     },
     "execution_count": 1,
     "metadata": {},
     "output_type": "execute_result"
    }
   ],
   "source": [
    "%pwd"
   ]
  },
  {
   "cell_type": "markdown",
   "metadata": {},
   "source": [
    "# 调试与异常\n",
    "\n",
    "## 错误异常与代码调试\n",
    " \n",
    "1. 执行 `%xmode Plain` 可以设置为当异常发生时只展示简单的异常信息\n",
    "2. 执行 `%xmode Verbose` 来还原显示详细异常信息的模式\n",
    "3. 使用 `%debug` 进入调试模式，输入**quit**退出调试模，调试模式下，我们也可以通过输入**up**来对外层函数进行调试，查看其中的变量情况。\n",
    "4. 执行 `%pdb on` 可以设置为当异常发生时自动进入调试式2\n",
    "\n",
    "## 使用 pdb 进行调试\n",
    "[Python 代码调试技巧](https://www.ibm.com/developerworks/cn/linux/l-cn-pythondebugger/index.html)\n",
    "\n",
    "- **pdb** 是 python 自带的一个包，为 python 程序提供了一种交互的源代码调试功能，主要特性包括设置断点、单步调试、进入函数调试、查看当前代码、查看栈片段、动态改变变量的值等\n",
    "\n",
    "- pdb常用的调试命令\n",
    "\n",
    "|命令| --|解释|\n",
    "|- - - |- - - |\n",
    "|break 或 b |设置断点|\n",
    "|continue 或 c\t|继续执行程序|\n",
    "|list 或 l\t|查看当前行的代码段|\n",
    "|step 或 s\t|进入函数|\n",
    "|return 或 r\t|执行代码直到从当前函数返回|\n",
    "|exit 或 q\t|中止并退出|\n",
    "|next 或 n\t|执行下一行|\n",
    "|pp\t       | 打印变量的值|\n",
    "|help\t|帮助|"
   ]
  },
  {
   "cell_type": "markdown",
   "metadata": {},
   "source": [
    "# 在线帮助和自动完成\n",
    "\n",
    "Notebook支持显示函数和方法的文档和源代码，以及自动完成对象的属性。\n",
    "   - 输入代码时，按**[TAB]**键可以显示自动完成提示框。自动完成支持当前执行环境中已知的模块名、变量名、对象的属性名，以及文件和目录名\n",
    "   - 对于当前环境中已知的对象，可以在其后面添加问号**?**查看相应的说明信息和文档，添加两个问号**??**可以查看对象对应的源程序。按**Ctrl+Enter**显示文档的内容\n",
    "   - 调用函数时，按**[shift+tab]**组合键可以显示函数的调用参数和说明文档，按**一次**组合键显示基本信息，**两次**显示详细信息，**三次**延时停留信息框，**四次**则将信息显示在下方的滑动窗口中。\n"
   ]
  },
  {
   "cell_type": "code",
   "execution_count": 8,
   "metadata": {
    "collapsed": true
   },
   "outputs": [],
   "source": [
    "list?"
   ]
  },
  {
   "cell_type": "code",
   "execution_count": 13,
   "metadata": {
    "collapsed": true
   },
   "outputs": [],
   "source": [
    "get_ipython??"
   ]
  },
  {
   "cell_type": "code",
   "execution_count": 7,
   "metadata": {},
   "outputs": [
    {
     "data": {
      "text/plain": [
       "<ufunc 'add'>"
      ]
     },
     "execution_count": 7,
     "metadata": {},
     "output_type": "execute_result"
    }
   ],
   "source": [
    "import numpy as np\n",
    "np.add"
   ]
  },
  {
   "cell_type": "markdown",
   "metadata": {},
   "source": [
    "# Jupyter notebook其它工具结合\n",
    " - [IPython与Jupyter notebook 安装与配置，插件扩展，主题，PDF输出](http://www.cnblogs.com/McKean/p/6249112.html)\n",
    "\n",
    " - [jupyter notebook转化为pdf](http://blog.juliusschulz.de/blog/ultimate-ipython-notebook) \n"
   ]
  },
  {
   "cell_type": "markdown",
   "metadata": {},
   "source": [
    "# Jupyter notebook其它工具结合\n",
    " - [IPython与Jupyter notebook 安装与配置，插件扩展，主题，PDF输出](http://www.cnblogs.com/McKean/p/6249112.html)\n",
    "\n",
    " - [jupyter notebook转化为pdf](http://blog.juliusschulz.de/blog/ultimate-ipython-notebook) \n"
   ]
  }
 ],
 "metadata": {
  "kernelspec": {
   "display_name": "Python 3",
   "language": "python",
   "name": "python3"
  },
  "language_info": {
   "codemirror_mode": {
    "name": "ipython",
    "version": 3
   },
   "file_extension": ".py",
   "mimetype": "text/x-python",
   "name": "python",
   "nbconvert_exporter": "python",
   "pygments_lexer": "ipython3",
   "version": "3.7.6"
  },
  "latex_envs": {
   "LaTeX_envs_menu_present": true,
   "autoclose": false,
   "autocomplete": true,
   "bibliofile": "biblio.bib",
   "cite_by": "apalike",
   "current_citInitial": 1,
   "eqLabelWithNumbers": true,
   "eqNumInitial": 1,
   "hotkeys": {
    "equation": "Ctrl-E",
    "itemize": "Ctrl-I"
   },
   "labels_anchors": false,
   "latex_user_defs": false,
   "report_style_numbering": false,
   "user_envs_cfg": false
  },
  "toc": {
   "base_numbering": 1,
   "nav_menu": {
    "height": "468px",
    "width": "315px"
   },
   "number_sections": true,
   "sideBar": true,
   "skip_h1_title": false,
   "title_cell": "Table of Contents",
   "title_sidebar": "Contents",
   "toc_cell": false,
   "toc_position": {
    "height": "calc(100% - 180px)",
    "left": "10px",
    "top": "150px",
    "width": "165px"
   },
   "toc_section_display": true,
   "toc_window_display": true
  },
  "varInspector": {
   "cols": {
    "lenName": 16,
    "lenType": 16,
    "lenVar": 40
   },
   "kernels_config": {
    "python": {
     "delete_cmd_postfix": "",
     "delete_cmd_prefix": "del ",
     "library": "var_list.py",
     "varRefreshCmd": "print(var_dic_list())"
    },
    "r": {
     "delete_cmd_postfix": ") ",
     "delete_cmd_prefix": "rm(",
     "library": "var_list.r",
     "varRefreshCmd": "cat(var_dic_list()) "
    }
   },
   "types_to_exclude": [
    "module",
    "function",
    "builtin_function_or_method",
    "instance",
    "_Feature"
   ],
   "window_display": false
  }
 },
 "nbformat": 4,
 "nbformat_minor": 2
}