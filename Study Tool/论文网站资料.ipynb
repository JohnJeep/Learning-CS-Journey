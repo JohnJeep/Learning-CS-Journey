{
 "cells": [
  {
   "cell_type": "markdown",
   "metadata": {},
   "source": [
    "# 免费下载各种外文科技论文书籍电子版       \n",
    "[参考网址](http://blog.sciencenet.cn/blog-752541-821254.html)\n",
    "## 最新任意文献下载网站:\n",
    "1. http://b-ok.org/\n",
    "2. http://booksc.org/\n",
    "`适合下载不是最新的论文`\n",
    "3. http://en.booksee.org/ \n",
    "4. http://gen.lib.rus.ec/\n",
    "`适合下载较新的论文,只要是外文书籍和论文基本上都可以搜到并下载，最近几年的论文也可以下载`\n",
    "5. http://sci-hub.hk/\n",
    "`适合下载最新的论文,文献资源下载网站http://www.sci-hub.org/是哈萨克斯坦牛人(Alexandra Elbakyan)开发的可以下载任意谷歌上有电子版链接文献杂志的网站，只要输入你想要下载的文献链接就可以获取到该文献的真实地址并在线浏览，当然更重要的是可以下载。这个是俄罗斯的某黑客给弄的. 原理好像是类似于RVPN, 借用有权限的学校的IP给我们下载相关文献. 适用于所有杂志, 只有极少数的还是不能下载`\n",
    "6. https://ebookee.org/\n",
    "`该站书籍种类丰富，基本专业书籍都可找到。这一系列网站唯一不好的地方就是网络硬盘存储，下载麻烦，有广告。部分网络硬盘在国内可能被墙，需要挂代理`\n",
    "7. google学术网：https://scholar.google.com/\n",
    "8. 国内可以“山寨”访问Google： https://github.com/greatfire/wiki\n",
    "9. [学术演讲或PhD答辩视频网站](http://videolectures.net/) : VideoLectures.NET是世界上最大的英文学术网络视频（注：中文最大的是超星学术视频，需要校园网权限）。它的总部设在斯洛文尼亚的约瑟夫斯蒂芬研究所。网站最初是提供计算机科学的视频，后来拓宽到各类学科。自2006年以来，已有10763个人的14251视频讲座资源库。它提供众多免费教学视频，分类广阔，包括了各种自然科学（数学，物理，化学，生物、医学等）、社会科学（商学、哲学、体育等），高质量交流论坛为广大用户提供高质量学习内容。VideoLectures.NET 是一个自由和开放接入教育视频讲座库。包括高校的学术演讲或者PhD答辩。这些讲座是由学者在会议，暑期学校，讲习班和科学的许多领域的科学宣传活动。这些讲座都是很前沿的方向的很深入的学术讨论，对不是那个行业方向的人来说很难明白。网站是关于各个领域研究方向的报告视频及slides，其中不乏很多数据挖掘、机器学习方面的讲解视频，Slides(也就是ppt)可以下载\n",
    "10. 中国版SCI-HUB网址 [国外文献免费下载](http://www.sci-hub.ac.cn/)\n",
    "\n",
    "## 例子\n",
    "•比如我们要下载一篇nature的文章，文章地址是：https://www.nature.com/articles/nature18954 稍微加点东西，\n",
    "把sci-hub的网址加进去，比如sci-hub.bz，弄成下面的样子:https://www.nature.com.sci-hub.bz/articles/nature18954 就可以下载全文了\n",
    "\n",
    "\n",
    "## 毕业论文\n",
    "  [参考文章](https://www.zhihu.com/question/29287203/answer/364754896)\n",
    "   - 查重复率软件：[论文潜搜](https://www.52pojie.cn/thread-713459-1-1.html)\n",
    "\n",
    "\n",
    "\n",
    "\n",
    "# 最新任意文献下载网站:免费下载各种外文科技论文书籍电子版       \n",
    "[参考网址](http://blog.sciencenet.cn/blog-752541-821254.html)\n",
    "\n",
    "1. https://b-ok.org/\n",
    "2. https://booksc.org/\n",
    "`适合下载不是最新的论文`\n",
    "3. http://en.booksee.org/ \n",
    "4. http://gen.lib.rus.ec/\n",
    "`适合下载较新的论文,只要是外文书籍和论文基本上都可以搜到并下载，最近几年的论文也可以下载`\n",
    "5. https://scihub.org/\n",
    "`适合下载最新的论文,文献资源下载网站https://www.sci-hub.org/是哈萨克斯坦牛人(Alexandra Elbakyan)开发的可以下载任意谷歌上有电子版链接文献杂志的网站，只要输入你想要下载的文献链接就可以获取到该文献的真实地址并在线浏览，当然更重要的是可以下载。这个是俄罗斯的某黑客给弄的. 原理好像是类似于RVPN, 借用有权限的学校的IP给我们下载相关文献. 适用于所有杂志, 只有极少数的还是不能下载`\n",
    "6. https://ebookee.org/\n",
    "`该站书籍种类丰富，基本专业书籍都可找到。这一系列网站唯一不好的地方就是网络硬盘存储，下载麻烦，有广告。部分网络硬盘在国内可能被墙，需要挂代理`\n",
    "7. google学术网：https://scholar.google.com/\n",
    "\n",
    "\n",
    "## 例子\n",
    "比如我们要下载一篇nature的文章，文章地址是：https://www.nature.com/articles/nature18954 稍微加点东西，\n",
    "把sci-hub的网址加进去，比如sci-hub.bz，弄成下面的样子:https://www.nature.com.sci-hub.bz/articles/nature18954 就可以下载全文了\n",
    "\n",
    "\n",
    "\n",
    "# 关于新技术的博客：[老D博客](https://laod.cn/hosts/2018-google-hosts.html)\n",
    "\n",
    "# [学术演讲或PhD答辩视频网站](http://videolectures.net/)\n",
    "> VideoLectures.NET是世界上最大的英文学术网络视频（注：中文最大的是超星学术视频，需要校园网权限）。它的总部设在斯洛文尼亚的约瑟夫斯蒂芬研究所。网站最初是提供计算机科学的视频，后来拓宽到各类学科。自2006年以来，已有10763个人的14251视频讲座资源库。它提供众多免费教学视频，分类广阔，包括了各种自然科学（数学，物理，化学，生物、医学等）、社会科学（商学、哲学、体育等），高质量交流论坛为广大用户提供高质量学习内容。\n",
    "VideoLectures.NET 是一个自由和开放接入教育视频讲座库。包括高校的学术演讲或者PhD答辩。这些讲座是由学者在会议，暑期学校，讲习班和科学的许多领域的科学宣传活动。这些讲座都是很前沿的方向的很深入的学术讨论，对不是那个行业方向的人来说很难明白。网站是关于各个领域研究方向的报告视频及slides，其中不乏很多数据挖掘、机器学习方面的讲解视频，Slides(也就是ppt)可以下载\n",
    "\n",
    "\n",
    "# 国内可以“山寨”访问Google\n",
    "https://github.com/greatfire/wiki\n"
   ]
  }
 ],
 "metadata": {
  "kernelspec": {
   "display_name": "Python 3",
   "language": "python",
   "name": "python3"
  },
  "language_info": {
   "codemirror_mode": {
    "name": "ipython",
    "version": 3
   },
   "file_extension": ".py",
   "mimetype": "text/x-python",
   "name": "python",
   "nbconvert_exporter": "python",
   "pygments_lexer": "ipython3",
   "version": "3.6.2"
  },
  "latex_envs": {
   "LaTeX_envs_menu_present": true,
   "autoclose": false,
   "autocomplete": true,
   "bibliofile": "biblio.bib",
   "cite_by": "apalike",
   "current_citInitial": 1,
   "eqLabelWithNumbers": true,
   "eqNumInitial": 1,
   "hotkeys": {
    "equation": "Ctrl-E",
    "itemize": "Ctrl-I"
   },
   "labels_anchors": false,
   "latex_user_defs": false,
   "report_style_numbering": false,
   "user_envs_cfg": false
  },
  "toc": {
   "base_numbering": 1,
   "nav_menu": {},
   "number_sections": true,
   "sideBar": true,
   "skip_h1_title": false,
   "title_cell": "Table of Contents",
   "title_sidebar": "Contents",
   "toc_cell": false,
   "toc_position": {
    "height": "calc(100% - 180px)",
    "left": "10px",
    "top": "150px",
    "width": "250px"
   },
   "toc_section_display": true,
   "toc_window_display": true
  },
  "varInspector": {
   "cols": {
    "lenName": 16,
    "lenType": 16,
    "lenVar": 40
   },
   "kernels_config": {
    "python": {
     "delete_cmd_postfix": "",
     "delete_cmd_prefix": "del ",
     "library": "var_list.py",
     "varRefreshCmd": "print(var_dic_list())"
    },
    "r": {
     "delete_cmd_postfix": ") ",
     "delete_cmd_prefix": "rm(",
     "library": "var_list.r",
     "varRefreshCmd": "cat(var_dic_list()) "
    }
   },
   "types_to_exclude": [
    "module",
    "function",
    "builtin_function_or_method",
    "instance",
    "_Feature"
   ],
   "window_display": false
  }
 },
 "nbformat": 4,
 "nbformat_minor": 2
}
